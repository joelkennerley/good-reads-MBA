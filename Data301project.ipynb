{
  "nbformat": 4,
  "nbformat_minor": 0,
  "metadata": {
    "colab": {
      "provenance": []
    },
    "kernelspec": {
      "name": "python3",
      "display_name": "Python 3"
    },
    "language_info": {
      "name": "python"
    }
  },
  "cells": [
    {
      "cell_type": "markdown",
      "source": [
        "Dowloading data from google cloud buckets and reading into dask bag.\n",
        "\n"
      ],
      "metadata": {
        "id": "6Gw-edznvMdQ"
      }
    },
    {
      "cell_type": "code",
      "source": [
        "import dask.bag as db\n",
        "import json\n",
        "import gzip\n",
        "import shutil\n",
        "import multiprocessing\n",
        "import os\n",
        "import urllib.request\n",
        "\n",
        "# downloading json.gz files from google cloud buckets\n",
        "url = 'https://storage.googleapis.com/jsonstuff/goodreads_interactions_comics_graphic.json.gz'\n",
        "filename = 'goodreads_interactions_comics_graphic.json.gz'\n",
        "urllib.request.urlretrieve(url, filename)\n",
        "\n",
        "# unzipping json.gz file\n",
        "with gzip.open(filename, 'rb') as f_in:\n",
        "  with open('goodreads_interactions_comics_graphic.json', 'wb') as f_out:\n",
        "    shutil.copyfileobj(f_in, f_out)\n",
        "\n",
        "# reading file into dask bag\n",
        "filename = 'goodreads_interactions_comics_graphic.json'\n",
        "n_cpus = multiprocessing.cpu_count()\n",
        "file_stats = os.stat(filename)\n",
        "file_mb = file_stats.st_size / (1024 * 1024)\n",
        "b = db.read_text(filename, blocksize=str((file_mb / n_cpus))+\"MB\")\n",
        "parsed_bag = b.map(json.loads)"
      ],
      "metadata": {
        "id": "XILta8dog6ZS"
      },
      "execution_count": null,
      "outputs": []
    },
    {
      "cell_type": "markdown",
      "source": [
        "Cleans data by only keeping essential data, filtering for high ratings (4 or 5) and only if the user has read the book."
      ],
      "metadata": {
        "id": "NxHQxpaEyrbQ"
      }
    },
    {
      "cell_type": "code",
      "source": [
        "def clean_data(bag):\n",
        "  bag = bag.map(lambda x: (x['user_id'], x['book_id'], x['is_read'], x['rating']))\n",
        "  bag = bag.filter(lambda x: x[3] >= 4 and x[2] is True)\n",
        "  return bag"
      ],
      "metadata": {
        "id": "XoJmVu49oeKL"
      },
      "execution_count": null,
      "outputs": []
    },
    {
      "cell_type": "code",
      "source": [
        "cleaned_bag = clean_data(parsed_bag)"
      ],
      "metadata": {
        "id": "JXjHfl5pqh7N"
      },
      "execution_count": null,
      "outputs": []
    },
    {
      "cell_type": "markdown",
      "source": [
        "Transforms bag of filtered data into a transactional format where each record in the bag represents the user and all the shows they have reviewed."
      ],
      "metadata": {
        "id": "1H4-Zul_y9qQ"
      }
    },
    {
      "cell_type": "code",
      "source": [
        "def transform_records(bag):\n",
        "  n_cpus = multiprocessing.cpu_count()\n",
        "  user_books = bag.foldby(key=lambda x: x[0], binop=lambda acc, x: acc + [x[1]], initial=[], combine=lambda acc1, acc2: acc1 + acc2 )\n",
        "  user_books = user_books.repartition(n_cpus)\n",
        "  user_books = user_books.pluck(1)\n",
        "  return user_books"
      ],
      "metadata": {
        "id": "NR5VYetgp6Zp"
      },
      "execution_count": null,
      "outputs": []
    },
    {
      "cell_type": "code",
      "source": [
        "users_reviewed_books = transform_records(cleaned_bag)"
      ],
      "metadata": {
        "id": "eo2Ss6HyzmJh"
      },
      "execution_count": null,
      "outputs": []
    },
    {
      "cell_type": "markdown",
      "source": [
        "Gets individual item counts for the amount of times a book has been reviewed."
      ],
      "metadata": {
        "id": "_jdgmp5Di642"
      }
    },
    {
      "cell_type": "code",
      "source": [
        "def a_priori_step1(user_books_bag):\n",
        "  item_counts = user_books_bag.flatten().frequencies()\n",
        "  return item_counts"
      ],
      "metadata": {
        "id": "TYTekV04p97r"
      },
      "execution_count": null,
      "outputs": []
    },
    {
      "cell_type": "code",
      "source": [
        "frequent_items = a_priori_step1(users_reviewed_books)"
      ],
      "metadata": {
        "id": "PymL1ZGgqF5U"
      },
      "execution_count": null,
      "outputs": []
    },
    {
      "cell_type": "markdown",
      "source": [
        "Apriori algorithim. Only returns frequent itemsets with individual counts over the support level, default is 1000 when using whole dataset, however I use support = (lines in interaction data) * 0.0004, when testing a subset."
      ],
      "metadata": {
        "id": "nr4Qyqi1v7uJ"
      }
    },
    {
      "cell_type": "code",
      "source": [
        "def a_priori(text_file_bag, support=2000):\n",
        "  item_counts = text_file_bag.flatten().frequencies()\n",
        "  significant_item_counts = item_counts.filter(lambda x: x[1]>=support)\n",
        "  significant_set = set(significant_item_counts.map(lambda x: x[0]).compute())\n",
        "\n",
        "  def generate_frequent_pairs(books):\n",
        "    pair_list = []\n",
        "    for i in range(len(books)):\n",
        "      if books[i] in significant_set:\n",
        "        for j in range(i+1, len(books)):\n",
        "          if books[j] in significant_set:\n",
        "            pair_list.append(tuple(sorted((books[i], books[j]))))\n",
        "    return pair_list\n",
        "  pair_counts = text_file_bag.map(generate_frequent_pairs).flatten().frequencies()\n",
        "  #pair_counts = pair_counts.repartition(n_cpus)\n",
        "  return pair_counts"
      ],
      "metadata": {
        "id": "jPuDuYALiE4F"
      },
      "execution_count": null,
      "outputs": []
    },
    {
      "cell_type": "code",
      "source": [
        "ap_results = a_priori(users_reviewed_books)"
      ],
      "metadata": {
        "id": "_HHeYT8yr77X"
      },
      "execution_count": null,
      "outputs": []
    },
    {
      "cell_type": "markdown",
      "source": [
        "Returns the confidence of each pair rule.\n",
        "\n",
        "\n"
      ],
      "metadata": {
        "id": "_9UiS44cLyfN"
      }
    },
    {
      "cell_type": "code",
      "source": [
        "def confidence(item_counts, pair_counts):\n",
        "  split_pairs = pair_counts.map(lambda x: [(x[0][0], (x[0][1], x[1])), (x[0][1], (x[0][0], x[1]))]).flatten()\n",
        "  joint = split_pairs.join(item_counts, lambda x: x[0])\n",
        "  output = joint.map(lambda x: ((x[0][0],x[1][1][0]), x[1][1][1]/x[0][1]))\n",
        "\n",
        "  return output"
      ],
      "metadata": {
        "id": "s3xmDrzMN7Pp"
      },
      "execution_count": null,
      "outputs": []
    },
    {
      "cell_type": "code",
      "source": [
        "rule_confidences = confidence(frequent_items, ap_results)\n",
        "results = rule_confidences.topk(5, key=lambda x: x[1])"
      ],
      "metadata": {
        "id": "ugWsfrfmOCG7"
      },
      "execution_count": null,
      "outputs": []
    },
    {
      "cell_type": "markdown",
      "source": [
        "Loading in book meta data to retrieve titles of books."
      ],
      "metadata": {
        "id": "iDjrAaFawLDI"
      }
    },
    {
      "cell_type": "code",
      "source": [
        "def load_book_metadata(jsongz):\n",
        "  book_bag = db.read_text(jsongz).map(json.loads)\n",
        "  titles = book_bag.map(lambda x: (x['book_id'], x['title']))\n",
        "  return titles"
      ],
      "metadata": {
        "id": "R4MtZcIZw5ej"
      },
      "execution_count": null,
      "outputs": []
    },
    {
      "cell_type": "code",
      "source": [
        "books_metadata_url = 'https://storage.googleapis.com/jsonstuff/goodreads_books_comics_graphic.json.gz'\n",
        "titles = load_book_metadata(books_metadata_url)"
      ],
      "metadata": {
        "id": "UznmPza0w6A9"
      },
      "execution_count": null,
      "outputs": []
    },
    {
      "cell_type": "code",
      "source": [
        "title_dict = dict(titles.compute())"
      ],
      "metadata": {
        "id": "ujnqL-mC73Xb"
      },
      "execution_count": null,
      "outputs": []
    },
    {
      "cell_type": "code",
      "source": [
        "def get_titles_for_pair_fast(item):\n",
        "    (book_id_1, book_id_2), count = item\n",
        "    title1 = title_dict.get(book_id_1, \"Unknown\")\n",
        "    title2 = title_dict.get(book_id_2, \"Unknown\")\n",
        "    return ((title1, title2), count)\n"
      ],
      "metadata": {
        "id": "z18BnIeouVkN"
      },
      "execution_count": null,
      "outputs": []
    },
    {
      "cell_type": "markdown",
      "source": [
        "Printing the top 5 pairs of highly-rated books that most strongly predict the presence of another highly-rated book."
      ],
      "metadata": {
        "id": "cy56L1661Fa2"
      }
    },
    {
      "cell_type": "code",
      "source": [
        "top_titles = results.map(get_titles_for_pair_fast)\n",
        "\n",
        "print(top_titles.compute())"
      ],
      "metadata": {
        "colab": {
          "base_uri": "https://localhost:8080/"
        },
        "id": "iZxeaTcNu35_",
        "outputId": "f3870fce-bfbd-46f7-885d-c248d1368e72"
      },
      "execution_count": null,
      "outputs": [
        {
          "output_type": "stream",
          "name": "stdout",
          "text": [
            "[(('Death Note, Vol. 2: Confluence (Death Note, #2)', 'Death Note, Vol. 1: Boredom (Death Note, #1)'), 0.934113712374582), (('Death Note, Vol. 4: Love (Death Note, #4)', 'Death Note, Vol. 3: Hard Run (Death Note, #3)'), 0.9303043670048522), (('Death Note, Vol. 4: Love (Death Note, #4)', 'Death Note, Vol. 1: Boredom (Death Note, #1)'), 0.9303043670048522), (('Death Note, Vol. 5: Whiteout (Death Note, #5)', 'Death Note, Vol. 1: Boredom (Death Note, #1)'), 0.9297029702970298), (('Death Note, Vol. 3: Hard Run (Death Note, #3)', 'Death Note, Vol. 2: Confluence (Death Note, #2)'), 0.928766056831452)]\n"
          ]
        }
      ]
    },
    {
      "cell_type": "markdown",
      "source": [
        "# Running the program on the cloud"
      ],
      "metadata": {
        "id": "MkkahYq3kNqn"
      }
    },
    {
      "cell_type": "code",
      "source": [
        "%%writefile dask_apriori.py\n",
        "# the above line tells colab to write the contents of this cell to a file instead of running them\n",
        "import time\n",
        "import sys\n",
        "import multiprocessing\n",
        "import os\n",
        "import urllib.request\n",
        "import dask.bag as db\n",
        "import json\n",
        "import gzip\n",
        "from itertools import islice\n",
        "\n",
        "\n",
        "\n",
        "def clean_data(bag):\n",
        "  bag = bag.map(lambda x: (x['user_id'], x['book_id'], x['is_read'], x['rating']))\n",
        "  bag = bag.filter(lambda x: x[3] >= 4 and x[2] is True)\n",
        "  return bag\n",
        "\n",
        "def transform_records(bag)\n",
        "  user_books = bag.foldby(key=lambda x: x[0], binop=lambda acc, x: acc + [x[1]], initial=[], combine=lambda acc1, acc2: acc1 + acc2 )\n",
        "  user_books = user_books.repartition(n_cpus)\n",
        "  user_books = user_books.pluck(1)\n",
        "  return user_books\n",
        "\n",
        "def a_priori_step1(text_file_bag):\n",
        "  item_counts = text_file_bag.flatten().frequencies()\n",
        "  return item_counts\n",
        "\n",
        "def a_priori(text_file_bag, support=1000):\n",
        "  item_counts = text_file_bag.flatten().frequencies()\n",
        "  significant_item_counts = item_counts.filter(lambda x: x[1]>=support)\n",
        "  significant_set = set(significant_item_counts.map(lambda x: x[0]).compute())\n",
        "\n",
        "  def generate_frequent_pairs(books):\n",
        "    pair_list = []\n",
        "    for i in range(len(books)):\n",
        "      if books[i] in significant_set:\n",
        "        for j in range(i+1, len(books)):\n",
        "          if books[j] in significant_set:\n",
        "            pair_list.append(tuple(sorted((books[i], books[j]))))\n",
        "    return pair_list\n",
        "  pair_counts = text_file_bag.map(generate_frequent_pairs).flatten().frequencies()\n",
        "  pair_counts = pair_counts.repartition(n_cpus)\n",
        "  return pair_counts\n",
        "\n",
        "def confidence(item_counts, pair_counts):\n",
        "  split_pairs = pair_counts.map(lambda x: [(x[0][0], (x[0][1], x[1])), (x[0][1], (x[0][0], x[1]))]).flatten()\n",
        "  print(f' conggg {split_pairs.npartitions}')\n",
        "  joint = split_pairs.join(item_counts, lambda x: x[0])\n",
        "  output = joint.map(lambda x: ((x[0][0],x[1][1][0]), x[1][1][1]/x[0][1]))\n",
        "\n",
        "  return output\n",
        "\n",
        "def load_book_metadata(jsongz):\n",
        "  book_bag = db.read_text(jsongz).map(json.loads)\n",
        "  titles = book_bag.map(lambda x: (x['book_id'], x['title']))\n",
        "  return titles\n",
        "\n",
        "def get_titles_for_pair_fast(item):\n",
        "    (book_id_1, book_id_2), count = item\n",
        "    title1 = title_dict.get(book_id_1, \"Unknown\")\n",
        "    title2 = title_dict.get(book_id_2, \"Unknown\")\n",
        "    return ((title1, title2), count)\n",
        "\n",
        "\n",
        "if __name__ == \"__main__\":\n",
        "  url = 'https://storage.googleapis.com/jsonstuff/goodreads_interactions_comics_graphic.json.gz'\n",
        "  filename = 'goodreads_interactions_comics_graphic.json.gz'\n",
        "  second_url = 'https://storage.googleapis.com/jsonstuff/goodreads_books_comics_graphic.json.gz'\n",
        "  second_file = 'goodreads_books_comics_graphic.json.gz'\n",
        "  urllib.request.urlretrieve(url, filename)\n",
        "\n",
        "  if len(sys.argv) >= 2:\n",
        "    filesize = int(sys.argv[1])\n",
        "\n",
        "  with gzip.open(filename, 'rt') as f_in:\n",
        "    with open('subset_interactions.json', 'w') as f_out:\n",
        "        for line in islice(f_in, filesize):\n",
        "            f_out.write(line)\n",
        "\n",
        "  n_cpus = multiprocessing.cpu_count()\n",
        "\n",
        "  if len(sys.argv) == 3:\n",
        "    n_cpus = int(sys.argv[2])\n",
        "\n",
        "  from dask import bag as db\n",
        "  from dask.distributed import LocalCluster\n",
        "  from dask.distributed import Client\n",
        "  from dask.distributed import get_task_stream\n",
        "\n",
        "  cluster = LocalCluster(n_workers=n_cpus, threads_per_worker=1) # force to start 8 processes if we have 8 cpus\n",
        "  print(cluster)\n",
        "  client = cluster.get_client()\n",
        "\n",
        "  with get_task_stream(plot='save', filename=f\"task-stream-{n_cpus}.html\") as ts:\n",
        "    # force load of text file into partitions so that each process has one chunk\n",
        "    filename = 'subset_interactions.json'  # uncompressed file\n",
        "    file_stats = os.stat(filename)\n",
        "    file_mb = file_stats.st_size / (1024 * 1024)\n",
        "    b = db.read_text(filename, blocksize=str((file_mb / n_cpus))+\"MB\")\n",
        "\n",
        "    parsed_bag = b.map(json.loads)\n",
        "\n",
        "    titles = load_book_metadata(second_url)\n",
        "\n",
        "    dict_start = time.time()\n",
        "    title_dict = dict(titles.compute())\n",
        "    dict_end = time.time()\n",
        "    print(f'dictionary_create time: {dict_end - dict_start:.4f} s')\n",
        "\n",
        "    time_start = time.time()\n",
        "\n",
        "    clean_start = time.time()\n",
        "    cleaned_bag = clean_data(parsed_bag)\n",
        "    clean_end = time.time()\n",
        "    print(f'clean data time: {clean_end - clean_start:.4f} s')\n",
        "\n",
        "    users_reviewed_books = transform_records(cleaned_bag)\n",
        "\n",
        "    freq_start = time.time()\n",
        "    frequent_items = a_priori_step1(users_reviewed_books)\n",
        "    freq_end = time.time()\n",
        "    print(f'item freq time: {freq_end - freq_start:.4f} s')\n",
        "\n",
        "    apriori_start = time.time()\n",
        "    ap_results= a_priori(users_reviewed_books, filesize*0.0004)\n",
        "    apriori_end = time.time()\n",
        "    print(f'apriori algorithim time: {apriori_end - apriori_start:.4f} s')\n",
        "\n",
        "    conf_start = time.time()\n",
        "    rule_confidences = confidence(frequent_items, ap_results)\n",
        "    conf_end = time.time()\n",
        "    print(f'confidence calculation time: {conf_end - conf_start:.4f} s')\n",
        "\n",
        "    top_start = time.time()\n",
        "    results = rule_confidences.topk(5, key=lambda x: x[1])\n",
        "    top_end = time.time()\n",
        "    print(f'get top5 time: {top_end - top_start:.4f} s')\n",
        "\n",
        "    map_start = time.time()\n",
        "    top_titles = results.map(get_titles_for_pair_fast)\n",
        "    map_end = time.time()\n",
        "    print(f'get titles timez: {map_end - map_start:.4f} s')\n",
        "\n",
        "    compute_start = time.time()\n",
        "    print(top_titles.compute())\n",
        "    print(f'compute time: {time.time() - compute_start:.4f} s')\n",
        "\n",
        "    time_total = time.time() - time_start\n",
        "    print(f'total elapsed time: {time_total:.4f} s')"
      ],
      "metadata": {
        "colab": {
          "base_uri": "https://localhost:8080/"
        },
        "id": "l-qvoZPAuTF1",
        "outputId": "0b890af1-4998-4792-d83a-aff4722d10c6"
      },
      "execution_count": null,
      "outputs": [
        {
          "output_type": "stream",
          "name": "stdout",
          "text": [
            "Overwriting dask_apriori.py\n"
          ]
        }
      ]
    },
    {
      "cell_type": "code",
      "source": [
        "USERNAME=\"jke\"\n",
        "%env REGION=australia-southeast1\n",
        "%env ZONE=\n",
        "%env PROJECT=data301-project-2025-jke139\n",
        "%env CLUSTER=data301-project-2025-jke139-cluster\n",
        "%env INSTANCE=data301-project-2025-jke139-cluster-m"
      ],
      "metadata": {
        "colab": {
          "base_uri": "https://localhost:8080/"
        },
        "id": "JFeTj8SQyRnj",
        "outputId": "728faf76-ee2f-493d-e376-419de69f9af5"
      },
      "execution_count": null,
      "outputs": [
        {
          "output_type": "stream",
          "name": "stdout",
          "text": [
            "env: REGION=australia-southeast1\n",
            "env: ZONE=\n",
            "env: PROJECT=data301-project-2025-jke139\n",
            "env: CLUSTER=data301-project-2025-jke139-cluster\n",
            "env: INSTANCE=data301-project-2025-jke139-cluster-m\n"
          ]
        }
      ]
    },
    {
      "cell_type": "code",
      "source": [
        "!gcloud auth login"
      ],
      "metadata": {
        "colab": {
          "base_uri": "https://localhost:8080/"
        },
        "id": "TjgznCJC6xbn",
        "outputId": "c1c7704a-d7fe-46a3-bdb5-0797c6b8a251"
      },
      "execution_count": null,
      "outputs": [
        {
          "output_type": "stream",
          "name": "stdout",
          "text": [
            "Go to the following link in your browser, and complete the sign-in prompts:\n",
            "\n",
            "    https://accounts.google.com/o/oauth2/auth?response_type=code&client_id=32555940559.apps.googleusercontent.com&redirect_uri=https%3A%2F%2Fsdk.cloud.google.com%2Fauthcode.html&scope=openid+https%3A%2F%2Fwww.googleapis.com%2Fauth%2Fuserinfo.email+https%3A%2F%2Fwww.googleapis.com%2Fauth%2Fcloud-platform+https%3A%2F%2Fwww.googleapis.com%2Fauth%2Fappengine.admin+https%3A%2F%2Fwww.googleapis.com%2Fauth%2Fsqlservice.login+https%3A%2F%2Fwww.googleapis.com%2Fauth%2Fcompute+https%3A%2F%2Fwww.googleapis.com%2Fauth%2Faccounts.reauth&state=aOoWK5bku4rguTzYMN5iJLjQeUvaOd&prompt=consent&token_usage=remote&access_type=offline&code_challenge=6i4ehEOoj9m6lqZC_2A93nEWkvh3N2ag3knqa5V0h2s&code_challenge_method=S256\n",
            "\n",
            "Once finished, enter the verification code provided in your browser: 4/0AUJR-x4zZtxrZQWyQQZ40x0oZPj4Hl_nOOe4SjaLO2rmVIpOR7YVr5Q0LwGRmCWXnH8Fbg\n",
            "\n",
            "You are now logged in as [joelkennerley@gmail.com].\n",
            "Your current project is [None].  You can change this setting by running:\n",
            "  $ gcloud config set project PROJECT_ID\n"
          ]
        }
      ]
    },
    {
      "cell_type": "code",
      "source": [
        "# Set the project environment variable and enable dataproc on it\n",
        "!gcloud config set project data301-project-2025-jke139\n",
        "!gcloud services enable dataproc.googleapis.com cloudresourcemanager.googleapis.com"
      ],
      "metadata": {
        "colab": {
          "base_uri": "https://localhost:8080/"
        },
        "id": "nc1chOXl6_Yt",
        "outputId": "e0f01b23-1e7f-4982-e721-b8c020de66ef"
      },
      "execution_count": null,
      "outputs": [
        {
          "output_type": "stream",
          "name": "stdout",
          "text": [
            "Updated property [core/project].\n",
            "Operation \"operations/acat.p2-671027123683-17f9d519-cd45-4655-9095-af9a6b1709f3\" finished successfully.\n"
          ]
        }
      ]
    },
    {
      "cell_type": "code",
      "source": [
        "# This command actually starts the cluster. It may take up to 5-10 minutes before\n",
        "#  showing the completion dialog which should be\n",
        "!gcloud dataproc clusters create $CLUSTER --region=$REGION --zone=$ZONE \\\n",
        "  --master-machine-type n2-standard-8 \\\n",
        "  --master-boot-disk-size 100 \\\n",
        "  --image-version 2.2-ubuntu22 \\\n",
        "  --max-age=30m \\\n",
        "  --public-ip-address \\\n",
        "  --num-masters=1 --num-workers=0\n",
        "\n",
        "# NOTE: the above arguments should be self-explanatory; you can read more here: https://cloud.google.com/sdk/gcloud/reference/dataproc/clusters/create\n",
        "# The 30minute age will ensure the cluster shuts down if you forget or get disconnected from colab\n",
        "# We only use 1 master node and 0 worker nodes as our 1 master node is an\n",
        "# n2-standard-8 which has 8 virtual CPUs"
      ],
      "metadata": {
        "colab": {
          "base_uri": "https://localhost:8080/"
        },
        "id": "5hP2_M8-tscE",
        "outputId": "a0168d8b-18bf-4fd6-bb8a-75f00581d718"
      },
      "execution_count": null,
      "outputs": [
        {
          "output_type": "stream",
          "name": "stdout",
          "text": [
            "Waiting on operation [projects/data301-project-2025-jke139/regions/australia-southeast1/operations/ca478f31-ea7f-345f-836c-abbee00cc2ed].\n",
            "\n",
            "\u001b[1;33mWARNING:\u001b[0m For PD-Standard without local SSDs, we strongly recommend provisioning 1TB or larger to ensure consistently high I/O performance. See https://cloud.google.com/compute/docs/disks/performance for information on disk I/O performance.\n",
            "\u001b[1;33mWARNING:\u001b[0m The firewall rules for specified network or subnetwork would allow ingress traffic from 0.0.0.0/0, which could be a security risk.\n",
            "\u001b[1;33mWARNING:\u001b[0m The specified custom staging bucket 'dataproc-staging-au-southeast1-671027123683-vhfxhien' is not using uniform bucket level access IAM configuration. It is recommended to update bucket to enable the same. See https://cloud.google.com/storage/docs/uniform-bucket-level-access.\n",
            "Created [https://dataproc.googleapis.com/v1/projects/data301-project-2025-jke139/regions/australia-southeast1/clusters/data301-project-2025-jke139-cluster] Cluster placed in zone [australia-southeast1-b].\n"
          ]
        }
      ]
    },
    {
      "cell_type": "code",
      "source": [
        "# first argument is file size, second is number of cpu's\n",
        "!gcloud dataproc jobs submit pyspark --cluster=$CLUSTER --region=$REGION dask_apriori.py -- 200000 1"
      ],
      "metadata": {
        "colab": {
          "base_uri": "https://localhost:8080/"
        },
        "id": "Y8qysFZItsZ8",
        "outputId": "1d0cbd6d-a80e-48c3-d299-650738d9c047"
      },
      "execution_count": null,
      "outputs": [
        {
          "output_type": "stream",
          "name": "stdout",
          "text": [
            "\u001b[1;31mERROR:\u001b[0m (gcloud.dataproc.jobs.submit.pyspark) NOT_FOUND: Not found: Cluster projects/data301-project-2025-jke139/regions/australia-southeast1/clusters/data301-project-2025-jke139-cluster. This command is authenticated as joelkennerley@gmail.com which is the active account specified by the [core/account] property\n"
          ]
        }
      ]
    },
    {
      "cell_type": "code",
      "source": [
        "!gcloud dataproc jobs submit pyspark --cluster=$CLUSTER --region=$REGION dask_apriori.py -- 400000 1"
      ],
      "metadata": {
        "colab": {
          "base_uri": "https://localhost:8080/"
        },
        "id": "QfYpS8_TLC1X",
        "outputId": "fff7fce9-11ae-40e3-a977-04917592008b"
      },
      "execution_count": null,
      "outputs": [
        {
          "output_type": "stream",
          "name": "stdout",
          "text": [
            "Job [af375f54e8034cb18386bc1db4370730] submitted.\n",
            "Waiting for job output...\n",
            "LocalCluster(ca1bb792, 'tcp://127.0.0.1:34031', workers=1, threads=1, memory=31.34 GiB)\n",
            "20000\n",
            "dictionary_create 33.8804 s\n",
            "clean 0.0009 s\n",
            "freq 0.0002 s\n",
            "apriori 0.1588 s\n",
            " conggg 1\n",
            "conf 0.0008 s\n",
            "top5 0.0003 s\n",
            "get titles 0.0908 s\n",
            "[(('The Wake (The Sandman #10)', 'The Kindly Ones (The Sandman #9)'), 1.0), (('The Kindly Ones (The Sandman #9)', 'The Wake (The Sandman #10)'), 1.0), (('The Wake (The Sandman #10)', 'Fables and Reflections (The Sandman #6)'), 1.0), (('The Wake (The Sandman #10)', 'Season of Mists (The Sandman #4)'), 1.0), ((\"Worlds' End (The Sandman #8)\", 'Season of Mists (The Sandman #4)'), 1.0)]\n",
            "compute 0.3479 s\n",
            "total elapsed time: 0.5998 s\n",
            "Job [af375f54e8034cb18386bc1db4370730] finished successfully.\n",
            "done: true\n",
            "driverControlFilesUri: gs://dataproc-staging-au-southeast1-671027123683-vhfxhien/google-cloud-dataproc-metainfo/ce44fd9c-c258-4067-867a-7679612bbe5b/jobs/af375f54e8034cb18386bc1db4370730/\n",
            "driverOutputResourceUri: gs://dataproc-staging-au-southeast1-671027123683-vhfxhien/google-cloud-dataproc-metainfo/ce44fd9c-c258-4067-867a-7679612bbe5b/jobs/af375f54e8034cb18386bc1db4370730/driveroutput\n",
            "jobUuid: 2a373b3e-1af4-3cc8-b697-0b13de8f4cfd\n",
            "placement:\n",
            "  clusterName: data301-project-2025-jke139-cluster\n",
            "  clusterUuid: ce44fd9c-c258-4067-867a-7679612bbe5b\n",
            "pysparkJob:\n",
            "  args:\n",
            "  - '20000'\n",
            "  - '1'\n",
            "  mainPythonFileUri: gs://dataproc-staging-au-southeast1-671027123683-vhfxhien/google-cloud-dataproc-metainfo/ce44fd9c-c258-4067-867a-7679612bbe5b/jobs/af375f54e8034cb18386bc1db4370730/staging/dask_apriori.py\n",
            "reference:\n",
            "  jobId: af375f54e8034cb18386bc1db4370730\n",
            "  projectId: data301-project-2025-jke139\n",
            "status:\n",
            "  state: DONE\n",
            "  stateStartTime: '2025-05-29T23:31:07.452439Z'\n",
            "statusHistory:\n",
            "- state: PENDING\n",
            "  stateStartTime: '2025-05-29T23:30:15.316427Z'\n",
            "- state: SETUP_DONE\n",
            "  stateStartTime: '2025-05-29T23:30:15.332429Z'\n",
            "- details: Agent reported job success\n",
            "  state: RUNNING\n",
            "  stateStartTime: '2025-05-29T23:30:15.615345Z'\n"
          ]
        }
      ]
    },
    {
      "cell_type": "code",
      "source": [
        "!gcloud dataproc jobs submit pyspark --cluster=$CLUSTER --region=$REGION dask_apriori.py -- 800000 1"
      ],
      "metadata": {
        "colab": {
          "base_uri": "https://localhost:8080/"
        },
        "id": "fTBWVZVROQTQ",
        "outputId": "8cb1c898-19f7-4d24-ace6-851d8e0eb6a0"
      },
      "execution_count": null,
      "outputs": [
        {
          "output_type": "stream",
          "name": "stdout",
          "text": [
            "Job [9bb9fa12e57c464f96c8027ceee08c21] submitted.\n",
            "Waiting for job output...\n",
            "LocalCluster(be6f5694, 'tcp://127.0.0.1:37427', workers=1, threads=1, memory=31.34 GiB)\n",
            "40000\n",
            "dictionary_create 34.0683 s\n",
            "clean 0.0010 s\n",
            "freq 0.0002 s\n",
            "apriori 0.2925 s\n",
            " conggg 1\n",
            "conf 0.0008 s\n",
            "top5 0.0003 s\n",
            "get titles 0.0884 s\n",
            "[(('The Walking Dead, Vol. 05: The Best Defense', \"The Walking Dead, Vol. 04: The Heart's Desire\"), 1.0), (('Saga, Vol. 3 (Saga, #3)', 'Saga, Vol. 2 (Saga, #2)'), 0.9803921568627451), (('Fables and Reflections (The Sandman #6)', 'Preludes & Nocturnes (The Sandman #1)'), 0.9444444444444444), (('Ms. Marvel, Vol. 2: Generation Why', 'Ms. Marvel, Vol. 1: No Normal'), 0.9444444444444444), (('Saga, Vol. 7 (Saga, #7)', 'Saga, Vol. 2 (Saga, #2)'), 0.9444444444444444)]\n",
            "compute 0.4644 s\n",
            "total elapsed time: 0.8481 s\n",
            "Job [9bb9fa12e57c464f96c8027ceee08c21] finished successfully.\n",
            "done: true\n",
            "driverControlFilesUri: gs://dataproc-staging-au-southeast1-671027123683-vhfxhien/google-cloud-dataproc-metainfo/ce44fd9c-c258-4067-867a-7679612bbe5b/jobs/9bb9fa12e57c464f96c8027ceee08c21/\n",
            "driverOutputResourceUri: gs://dataproc-staging-au-southeast1-671027123683-vhfxhien/google-cloud-dataproc-metainfo/ce44fd9c-c258-4067-867a-7679612bbe5b/jobs/9bb9fa12e57c464f96c8027ceee08c21/driveroutput\n",
            "jobUuid: c9014f35-41b4-3131-9f1a-117aa2a59ecd\n",
            "placement:\n",
            "  clusterName: data301-project-2025-jke139-cluster\n",
            "  clusterUuid: ce44fd9c-c258-4067-867a-7679612bbe5b\n",
            "pysparkJob:\n",
            "  args:\n",
            "  - '40000'\n",
            "  - '1'\n",
            "  mainPythonFileUri: gs://dataproc-staging-au-southeast1-671027123683-vhfxhien/google-cloud-dataproc-metainfo/ce44fd9c-c258-4067-867a-7679612bbe5b/jobs/9bb9fa12e57c464f96c8027ceee08c21/staging/dask_apriori.py\n",
            "reference:\n",
            "  jobId: 9bb9fa12e57c464f96c8027ceee08c21\n",
            "  projectId: data301-project-2025-jke139\n",
            "status:\n",
            "  state: DONE\n",
            "  stateStartTime: '2025-05-29T23:28:56.915380Z'\n",
            "statusHistory:\n",
            "- state: PENDING\n",
            "  stateStartTime: '2025-05-29T23:28:03.605581Z'\n",
            "- state: SETUP_DONE\n",
            "  stateStartTime: '2025-05-29T23:28:03.628763Z'\n",
            "- details: Agent reported job success\n",
            "  state: RUNNING\n",
            "  stateStartTime: '2025-05-29T23:28:04.074381Z'\n"
          ]
        }
      ]
    },
    {
      "cell_type": "code",
      "source": [
        "!gcloud dataproc jobs submit pyspark --cluster=$CLUSTER --region=$REGION dask_apriori.py -- 1600000 1"
      ],
      "metadata": {
        "colab": {
          "base_uri": "https://localhost:8080/"
        },
        "id": "lysrnZcaOR4x",
        "outputId": "bad857ec-279b-415a-cdf8-329ac13d1f3a"
      },
      "execution_count": null,
      "outputs": [
        {
          "output_type": "stream",
          "name": "stdout",
          "text": [
            "Job [9c24890c0c4644359c4f7772055bb721] submitted.\n",
            "Waiting for job output...\n",
            "LocalCluster(fe3160d8, 'tcp://127.0.0.1:33111', workers=1, threads=1, memory=31.34 GiB)\n",
            "80000\n",
            "dictionary_create 33.8192 s\n",
            "clean 0.0010 s\n",
            "freq 0.0002 s\n",
            "apriori 0.5775 s\n",
            " conggg 1\n",
            "conf 0.0014 s\n",
            "top5 0.0003 s\n",
            "get titles 0.0895 s\n",
            "[(('Saga, Vol. 3 (Saga, #3)', 'Saga, Vol. 2 (Saga, #2)'), 0.9772727272727273), (('The Walking Dead, Vol. 03: Safety Behind Bars', 'The Walking Dead, Vol. 01: Days Gone Bye'), 0.9705882352941176), (('Saga, Vol. 7 (Saga, #7)', 'Saga, Vol. 2 (Saga, #2)'), 0.9696969696969697), (('A Game of You (The Sandman #5)', 'Season of Mists (The Sandman #4)'), 0.9459459459459459), (('The Walking Dead, Vol. 03: Safety Behind Bars', 'The Walking Dead, Vol. 02: Miles Behind Us'), 0.9411764705882353)]\n",
            "compute 0.7859 s\n",
            "total elapsed time: 1.4564 s\n",
            "Job [9c24890c0c4644359c4f7772055bb721] finished successfully.\n",
            "done: true\n",
            "driverControlFilesUri: gs://dataproc-staging-au-southeast1-671027123683-vhfxhien/google-cloud-dataproc-metainfo/ce44fd9c-c258-4067-867a-7679612bbe5b/jobs/9c24890c0c4644359c4f7772055bb721/\n",
            "driverOutputResourceUri: gs://dataproc-staging-au-southeast1-671027123683-vhfxhien/google-cloud-dataproc-metainfo/ce44fd9c-c258-4067-867a-7679612bbe5b/jobs/9c24890c0c4644359c4f7772055bb721/driveroutput\n",
            "jobUuid: ce4dbb4f-6c38-31bc-bb13-c2263d54676c\n",
            "placement:\n",
            "  clusterName: data301-project-2025-jke139-cluster\n",
            "  clusterUuid: ce44fd9c-c258-4067-867a-7679612bbe5b\n",
            "pysparkJob:\n",
            "  args:\n",
            "  - '80000'\n",
            "  - '1'\n",
            "  mainPythonFileUri: gs://dataproc-staging-au-southeast1-671027123683-vhfxhien/google-cloud-dataproc-metainfo/ce44fd9c-c258-4067-867a-7679612bbe5b/jobs/9c24890c0c4644359c4f7772055bb721/staging/dask_apriori.py\n",
            "reference:\n",
            "  jobId: 9c24890c0c4644359c4f7772055bb721\n",
            "  projectId: data301-project-2025-jke139\n",
            "status:\n",
            "  state: DONE\n",
            "  stateStartTime: '2025-05-29T23:30:03.159468Z'\n",
            "statusHistory:\n",
            "- state: PENDING\n",
            "  stateStartTime: '2025-05-29T23:29:09.656253Z'\n",
            "- state: SETUP_DONE\n",
            "  stateStartTime: '2025-05-29T23:29:09.674325Z'\n",
            "- details: Agent reported job success\n",
            "  state: RUNNING\n",
            "  stateStartTime: '2025-05-29T23:29:09.985710Z'\n"
          ]
        }
      ]
    },
    {
      "cell_type": "code",
      "source": [
        "!gcloud dataproc jobs submit pyspark --cluster=$CLUSTER --region=$REGION dask_apriori.py -- 400000 2"
      ],
      "metadata": {
        "colab": {
          "base_uri": "https://localhost:8080/"
        },
        "id": "8iPumwyfOWrN",
        "outputId": "39a8c345-7df5-4328-e1a5-90ab9f677b1b"
      },
      "execution_count": null,
      "outputs": [
        {
          "output_type": "stream",
          "name": "stdout",
          "text": [
            "Job [6f62ed07f388446588c43a25869ee88b] submitted.\n",
            "Waiting for job output...\n",
            "LocalCluster(a042ff46, 'tcp://127.0.0.1:46291', workers=2, threads=2, memory=31.34 GiB)\n",
            "20000\n",
            "dictionary_create 34.5771 s\n",
            "clean 0.0010 s\n",
            "freq 0.0002 s\n",
            "apriori 0.1428 s\n",
            " conggg 2\n",
            "conf 0.0009 s\n",
            "top5 0.0003 s\n",
            "get titles 0.0940 s\n",
            "[(('The Wake (The Sandman #10)', 'The Kindly Ones (The Sandman #9)'), 1.0), (('The Kindly Ones (The Sandman #9)', 'The Wake (The Sandman #10)'), 1.0), (('The Wake (The Sandman #10)', 'Fables and Reflections (The Sandman #6)'), 1.0), (('The Wake (The Sandman #10)', 'Season of Mists (The Sandman #4)'), 1.0), ((\"Worlds' End (The Sandman #8)\", 'Season of Mists (The Sandman #4)'), 1.0)]\n",
            "compute 0.4009 s\n",
            "total elapsed time: 0.6406 s\n",
            "Job [6f62ed07f388446588c43a25869ee88b] finished successfully.\n",
            "done: true\n",
            "driverControlFilesUri: gs://dataproc-staging-au-southeast1-671027123683-vhfxhien/google-cloud-dataproc-metainfo/ce44fd9c-c258-4067-867a-7679612bbe5b/jobs/6f62ed07f388446588c43a25869ee88b/\n",
            "driverOutputResourceUri: gs://dataproc-staging-au-southeast1-671027123683-vhfxhien/google-cloud-dataproc-metainfo/ce44fd9c-c258-4067-867a-7679612bbe5b/jobs/6f62ed07f388446588c43a25869ee88b/driveroutput\n",
            "jobUuid: 4f546a0a-f3da-3a35-91b9-1b3e366ac204\n",
            "placement:\n",
            "  clusterName: data301-project-2025-jke139-cluster\n",
            "  clusterUuid: ce44fd9c-c258-4067-867a-7679612bbe5b\n",
            "pysparkJob:\n",
            "  args:\n",
            "  - '20000'\n",
            "  - '2'\n",
            "  mainPythonFileUri: gs://dataproc-staging-au-southeast1-671027123683-vhfxhien/google-cloud-dataproc-metainfo/ce44fd9c-c258-4067-867a-7679612bbe5b/jobs/6f62ed07f388446588c43a25869ee88b/staging/dask_apriori.py\n",
            "reference:\n",
            "  jobId: 6f62ed07f388446588c43a25869ee88b\n",
            "  projectId: data301-project-2025-jke139\n",
            "status:\n",
            "  state: DONE\n",
            "  stateStartTime: '2025-05-29T23:32:12.415630Z'\n",
            "statusHistory:\n",
            "- state: PENDING\n",
            "  stateStartTime: '2025-05-29T23:31:18.839503Z'\n",
            "- state: SETUP_DONE\n",
            "  stateStartTime: '2025-05-29T23:31:18.858812Z'\n",
            "- details: Agent reported job success\n",
            "  state: RUNNING\n",
            "  stateStartTime: '2025-05-29T23:31:19.163194Z'\n"
          ]
        }
      ]
    },
    {
      "cell_type": "code",
      "source": [
        "!gcloud dataproc jobs submit pyspark --cluster=$CLUSTER --region=$REGION dask_apriori.py -- 800000 4"
      ],
      "metadata": {
        "colab": {
          "base_uri": "https://localhost:8080/"
        },
        "id": "Y5sT0FpfOcLS",
        "outputId": "fc2860c5-7240-4314-f848-245be2c5722c"
      },
      "execution_count": null,
      "outputs": [
        {
          "output_type": "stream",
          "name": "stdout",
          "text": [
            "Job [6964590dffbd4bc4af5ed73afd8af2c3] submitted.\n",
            "Waiting for job output...\n",
            "LocalCluster(bf039a9f, 'tcp://127.0.0.1:45915', workers=4, threads=4, memory=31.34 GiB)\n",
            "40000\n",
            "dictionary_create 34.0993 s\n",
            "clean 0.0010 s\n",
            "freq 0.0002 s\n",
            "apriori 0.1848 s\n",
            " conggg 4\n",
            "conf 0.0009 s\n",
            "top5 0.0002 s\n",
            "get titles 0.0903 s\n",
            "[(('The Walking Dead, Vol. 05: The Best Defense', \"The Walking Dead, Vol. 04: The Heart's Desire\"), 1.0), (('Saga, Vol. 3 (Saga, #3)', 'Saga, Vol. 2 (Saga, #2)'), 0.9803921568627451), (('Fables and Reflections (The Sandman #6)', 'Preludes & Nocturnes (The Sandman #1)'), 0.9444444444444444), (('Ms. Marvel, Vol. 2: Generation Why', 'Ms. Marvel, Vol. 1: No Normal'), 0.9444444444444444), (('Saga, Vol. 7 (Saga, #7)', 'Saga, Vol. 2 (Saga, #2)'), 0.9444444444444444)]\n",
            "compute 0.8051 s\n",
            "total elapsed time: 1.0828 s\n",
            "Job [6964590dffbd4bc4af5ed73afd8af2c3] finished successfully.\n",
            "done: true\n",
            "driverControlFilesUri: gs://dataproc-staging-au-southeast1-671027123683-vhfxhien/google-cloud-dataproc-metainfo/ce44fd9c-c258-4067-867a-7679612bbe5b/jobs/6964590dffbd4bc4af5ed73afd8af2c3/\n",
            "driverOutputResourceUri: gs://dataproc-staging-au-southeast1-671027123683-vhfxhien/google-cloud-dataproc-metainfo/ce44fd9c-c258-4067-867a-7679612bbe5b/jobs/6964590dffbd4bc4af5ed73afd8af2c3/driveroutput\n",
            "jobUuid: de54a935-fd8e-392d-a245-1523aab64dba\n",
            "placement:\n",
            "  clusterName: data301-project-2025-jke139-cluster\n",
            "  clusterUuid: ce44fd9c-c258-4067-867a-7679612bbe5b\n",
            "pysparkJob:\n",
            "  args:\n",
            "  - '40000'\n",
            "  - '4'\n",
            "  mainPythonFileUri: gs://dataproc-staging-au-southeast1-671027123683-vhfxhien/google-cloud-dataproc-metainfo/ce44fd9c-c258-4067-867a-7679612bbe5b/jobs/6964590dffbd4bc4af5ed73afd8af2c3/staging/dask_apriori.py\n",
            "reference:\n",
            "  jobId: 6964590dffbd4bc4af5ed73afd8af2c3\n",
            "  projectId: data301-project-2025-jke139\n",
            "status:\n",
            "  state: DONE\n",
            "  stateStartTime: '2025-05-29T23:33:17.569585Z'\n",
            "statusHistory:\n",
            "- state: PENDING\n",
            "  stateStartTime: '2025-05-29T23:32:24.261878Z'\n",
            "- state: SETUP_DONE\n",
            "  stateStartTime: '2025-05-29T23:32:24.278584Z'\n",
            "- details: Agent reported job success\n",
            "  state: RUNNING\n",
            "  stateStartTime: '2025-05-29T23:32:24.590811Z'\n"
          ]
        }
      ]
    },
    {
      "cell_type": "code",
      "source": [
        "!gcloud dataproc jobs submit pyspark --cluster=$CLUSTER --region=$REGION dask_apriori.py -- 1600000 8"
      ],
      "metadata": {
        "colab": {
          "base_uri": "https://localhost:8080/"
        },
        "id": "x0tEsKeJOe53",
        "outputId": "82fe9317-a531-46d9-ac18-624e78d43481"
      },
      "execution_count": null,
      "outputs": [
        {
          "output_type": "stream",
          "name": "stdout",
          "text": [
            "Job [0b4c6ea1068e4e6dbd58eae955c80308] submitted.\n",
            "Waiting for job output...\n",
            "LocalCluster(e9c66a14, 'tcp://127.0.0.1:45435', workers=8, threads=8, memory=31.34 GiB)\n",
            "80000\n",
            "dictionary_create 33.3059 s\n",
            "clean 0.0011 s\n",
            "freq 0.0002 s\n",
            "apriori 0.2477 s\n",
            " conggg 8\n",
            "conf 0.0012 s\n",
            "top5 0.0003 s\n",
            "get titles 0.0903 s\n",
            "[(('Saga, Vol. 3 (Saga, #3)', 'Saga, Vol. 2 (Saga, #2)'), 0.9772727272727273), (('The Walking Dead, Vol. 03: Safety Behind Bars', 'The Walking Dead, Vol. 01: Days Gone Bye'), 0.9705882352941176), (('Saga, Vol. 7 (Saga, #7)', 'Saga, Vol. 2 (Saga, #2)'), 0.9696969696969697), (('A Game of You (The Sandman #5)', 'Season of Mists (The Sandman #4)'), 0.9459459459459459), (('The Walking Dead, Vol. 03: Safety Behind Bars', 'The Walking Dead, Vol. 02: Miles Behind Us'), 0.9411764705882353)]\n",
            "compute 2.4708 s\n",
            "total elapsed time: 2.8117 s\n",
            "Job [0b4c6ea1068e4e6dbd58eae955c80308] finished successfully.\n",
            "done: true\n",
            "driverControlFilesUri: gs://dataproc-staging-au-southeast1-671027123683-vhfxhien/google-cloud-dataproc-metainfo/ce44fd9c-c258-4067-867a-7679612bbe5b/jobs/0b4c6ea1068e4e6dbd58eae955c80308/\n",
            "driverOutputResourceUri: gs://dataproc-staging-au-southeast1-671027123683-vhfxhien/google-cloud-dataproc-metainfo/ce44fd9c-c258-4067-867a-7679612bbe5b/jobs/0b4c6ea1068e4e6dbd58eae955c80308/driveroutput\n",
            "jobUuid: 9c9c4275-108c-3a12-a755-a9856f3ef97f\n",
            "placement:\n",
            "  clusterName: data301-project-2025-jke139-cluster\n",
            "  clusterUuid: ce44fd9c-c258-4067-867a-7679612bbe5b\n",
            "pysparkJob:\n",
            "  args:\n",
            "  - '80000'\n",
            "  - '8'\n",
            "  mainPythonFileUri: gs://dataproc-staging-au-southeast1-671027123683-vhfxhien/google-cloud-dataproc-metainfo/ce44fd9c-c258-4067-867a-7679612bbe5b/jobs/0b4c6ea1068e4e6dbd58eae955c80308/staging/dask_apriori.py\n",
            "reference:\n",
            "  jobId: 0b4c6ea1068e4e6dbd58eae955c80308\n",
            "  projectId: data301-project-2025-jke139\n",
            "status:\n",
            "  state: DONE\n",
            "  stateStartTime: '2025-05-29T23:39:35.971333Z'\n",
            "statusHistory:\n",
            "- state: PENDING\n",
            "  stateStartTime: '2025-05-29T23:38:41.715675Z'\n",
            "- state: SETUP_DONE\n",
            "  stateStartTime: '2025-05-29T23:38:41.732120Z'\n",
            "- details: Agent reported job success\n",
            "  state: RUNNING\n",
            "  stateStartTime: '2025-05-29T23:38:42.143031Z'\n"
          ]
        }
      ]
    },
    {
      "cell_type": "markdown",
      "source": [
        "Plot measuring scalability on a single processor"
      ],
      "metadata": {
        "id": "3gFXnNBXJ-Sc"
      }
    },
    {
      "cell_type": "code",
      "source": [
        "import matplotlib.pyplot as plt\n",
        "\n",
        "file_sizes = [10000, 20000, 40000, 80000]\n",
        "elapsed_times_1_process = [34.48950982093811, 34.634485721588135, 34.33740568161011, 35.95807671546936]\n",
        "\n",
        "plt.figure(figsize=(10, 6))\n",
        "plt.plot(file_sizes, elapsed_times_1_process, marker='o', linestyle='-', label='1 Process')\n",
        "\n",
        "plt.xlabel(\"Number of File Lines\")\n",
        "plt.ylabel(\"Elapsed Time (seconds)\")\n",
        "plt.title(\"Execution Time vs. Number of File Lines\")\n",
        "plt.grid(True)\n",
        "plt.ylim(0, max(elapsed_times_1_process) + 14)\n",
        "plt.legend()\n",
        "plt.show()"
      ],
      "metadata": {
        "colab": {
          "base_uri": "https://localhost:8080/",
          "height": 564
        },
        "id": "e_Ta1tqDFLuO",
        "outputId": "d200f972-f5e6-42f7-8153-7b5b2e9986f7"
      },
      "execution_count": null,
      "outputs": [
        {
          "output_type": "display_data",
          "data": {
            "text/plain": [
              "<Figure size 1000x600 with 1 Axes>"
            ],
            "image/png": "[encoded data removed]"
          },
          "metadata": {}
        }
      ]
    },
    {
      "cell_type": "markdown",
      "source": [
        "Plot measuring weak scalability using processors 1, 2, 4, and 8 with file sizes 10,000, 20,000, 40,000 and 80,000 lines."
      ],
      "metadata": {
        "id": "6YZ3ZpCEEUb1"
      }
    },
    {
      "cell_type": "code",
      "source": [
        "import matplotlib.pyplot as plt\n",
        "\n",
        "processors = [1, 2, 4, 8]\n",
        "times = [33.794820070266724, 36.23728942871094, 35.043009519577026, 34.85246181488037]\n",
        "\n",
        "plt.figure(figsize=(8, 6))\n",
        "plt.plot(processors, times, marker='o')\n",
        "plt.xlabel('Number of Processors')\n",
        "plt.ylabel('Time (seconds)')\n",
        "plt.title('Execution Time vs. Number of Processors')\n",
        "plt.grid(True)\n",
        "plt.xticks(processors)\n",
        "plt.ylim(0, max(times) + 10)\n",
        "plt.show()\n"
      ],
      "metadata": {
        "colab": {
          "base_uri": "https://localhost:8080/",
          "height": 564
        },
        "id": "5YKUIVA0B5wq",
        "outputId": "01c3610b-fe20-4b4b-cb34-28b496dffc00"
      },
      "execution_count": null,
      "outputs": [
        {
          "output_type": "display_data",
          "data": {
            "text/plain": [
              "<Figure size 800x600 with 1 Axes>"
            ],
            "image/png": "[encoded data removed]"
          },
          "metadata": {}
        }
      ]
    },
    {
      "cell_type": "code",
      "source": [
        "file_lines = [200000, 400000, 800000, 1600000]\n",
        "time_1_process = [3.1081, 6.0202, 11.6211, 23.1151]\n",
        "\n",
        "plt.figure(figsize=(10, 6))\n",
        "\n",
        "plt.plot(file_lines, time_1_process, marker='o', linestyle='-', label='1 Process')\n",
        "\n",
        "plt.xlabel(\"Number of File Lines (million)\")\n",
        "plt.ylabel(\"Elapsed Time (seconds)\")\n",
        "plt.title(\"Execution Time vs. Number of File Lines\")\n",
        "plt.grid(True)\n",
        "plt.legend()\n",
        "plt.show()\n"
      ],
      "metadata": {
        "colab": {
          "base_uri": "https://localhost:8080/",
          "height": 564
        },
        "id": "YN7__w4YJHtK",
        "outputId": "da98bd73-2bc8-4845-cf0b-bf156110f682"
      },
      "execution_count": null,
      "outputs": [
        {
          "output_type": "display_data",
          "data": {
            "text/plain": [
              "<Figure size 1000x600 with 1 Axes>"
            ],
            "image/png": "[encoded data removed]"
          },
          "metadata": {}
        }
      ]
    },
    {
      "cell_type": "code",
      "source": [
        "processors = [1, 2, 4, 8]\n",
        "times = [3.1081, 4.6712, 9.7280, 19.5664]\n",
        "\n",
        "plt.figure(figsize=(8, 6))\n",
        "plt.plot(processors, times, marker='o')\n",
        "plt.xlabel('Number of Processors')\n",
        "plt.ylabel('Time (seconds)')\n",
        "plt.title('Weak Scalability: Execution Time vs. Number of Processors')\n",
        "plt.grid(True)\n",
        "plt.xticks(processors)\n",
        "plt.ylim(0, max(times) + 1)\n",
        "plt.show()\n"
      ],
      "metadata": {
        "colab": {
          "base_uri": "https://localhost:8080/",
          "height": 564
        },
        "id": "WA8VrnFoTBb-",
        "outputId": "f0b08915-699c-4bbb-e39f-7656773e637f"
      },
      "execution_count": null,
      "outputs": [
        {
          "output_type": "display_data",
          "data": {
            "text/plain": [
              "<Figure size 800x600 with 1 Axes>"
            ],
            "image/png": "[encoded data removed]"
          },
          "metadata": {}
        }
      ]
    }
  ]
}